{
 "cells": [
  {
   "cell_type": "markdown",
   "id": "0c936a8c-89da-4103-99c2-70a5253033f3",
   "metadata": {},
   "source": [
    "# Week 2 demos"
   ]
  },
  {
   "cell_type": "markdown",
   "id": "f9431289-dfce-426c-9b64-e637868ebe1e",
   "metadata": {},
   "source": [
    "## Using Jupyter notebook"
   ]
  },
  {
   "cell_type": "markdown",
   "id": "a5947ffd-ff26-4b11-b91a-18677b812786",
   "metadata": {},
   "source": [
    "Enter command mode using `Esc`<br>\n",
    "Enter edit mode using `Enter`<br>\n",
    "Execute codes / render texts using `Shift` + `Enter`"
   ]
  },
  {
   "cell_type": "markdown",
   "id": "67f709ff-421f-45e1-b907-64ad284d9fc9",
   "metadata": {},
   "source": [
    "Command mode quick reference:\n",
    "\n",
    "+ `m` converts the current cell into a markdown cell\n",
    "+ `y` converts the current cell into a code cell<br><br>\n",
    "+ `a` inserts a cell above the current cell\n",
    "+ `b` inserts a cell below the current cell<br><br>\n",
    "+ `c` copies the content of the current cell, and `v` pastes it\n",
    "+ `d` + `d` deletes the current cell\n",
    "+ `z` undoes the previous action"
   ]
  },
  {
   "cell_type": "markdown",
   "id": "4519ada8-8987-475a-a30f-6c5572028715",
   "metadata": {},
   "source": [
    "Markdown quick reference:\n",
    "\n",
    "+ Create a list using `+`\n",
    "+ Boldface texts using a pair of `**`\n",
    "+ Italicize texts using a pair of `_`\n",
    "+ Put texts in \"coding font\" using a pair of `` ` ``\n",
    "+ Create headings using `#`'s\n"
   ]
  },
  {
   "cell_type": "markdown",
   "id": "23b6842f-398b-4133-8ab0-688e1087097d",
   "metadata": {},
   "source": [
    "Now let's make a markdown cell, and put in some content"
   ]
  },
  {
   "cell_type": "markdown",
   "id": "08572975-a96b-40b3-ba0d-53a33a9c8d38",
   "metadata": {},
   "source": [
    "### Poll #1 (think-pair-share; JupyterHub **off**)\n",
    "What plain text in a markdown cell will render into the rich output below?"
   ]
  },
  {
   "cell_type": "markdown",
   "id": "387fe5b8-df20-470b-a3a3-5eaab59471d2",
   "metadata": {
    "editable": true,
    "slideshow": {
     "slide_type": ""
    },
    "tags": []
   },
   "source": [
    "+ **Exponentiation** `y = x ** 2`"
   ]
  },
  {
   "cell_type": "markdown",
   "id": "6dc2f66c-94b6-4d32-b2b0-dbec6a97bb5f",
   "metadata": {
    "editable": true,
    "slideshow": {
     "slide_type": ""
    },
    "tags": []
   },
   "source": [
    "## Arithmetic"
   ]
  },
  {
   "cell_type": "markdown",
   "id": "497f5a4c-f70b-4f6a-941e-112e4a359236",
   "metadata": {},
   "source": [
    "+ `+`: operator for adding two numbers\n",
    "+ `-`: operator for subtraction\n",
    "+ `*`: operator for multiplication\n",
    "+ `/`: operator for “true division”\n",
    "+ `//`: operator for “floor division”\n",
    "+ `%`: operator for remainder\n",
    "+ `**`: operator for exponentiation\n",
    "+ `()`: for overriding operator precedence"
   ]
  },
  {
   "cell_type": "code",
   "execution_count": 1,
   "id": "d98ddf06-1640-4899-a0cb-8644155408d5",
   "metadata": {},
   "outputs": [
    {
     "data": {
      "text/plain": [
       "50"
      ]
     },
     "execution_count": 1,
     "metadata": {},
     "output_type": "execute_result"
    }
   ],
   "source": [
    "10 * 5"
   ]
  },
  {
   "cell_type": "code",
   "execution_count": 2,
   "id": "10a225e5-8c2c-4787-97c1-2a42be1dbc10",
   "metadata": {},
   "outputs": [
    {
     "data": {
      "text/plain": [
       "2"
      ]
     },
     "execution_count": 2,
     "metadata": {},
     "output_type": "execute_result"
    }
   ],
   "source": [
    "7 // 3"
   ]
  },
  {
   "cell_type": "code",
   "execution_count": 3,
   "id": "dce71341-5616-460e-99a7-55e6f17a7640",
   "metadata": {},
   "outputs": [
    {
     "data": {
      "text/plain": [
       "1"
      ]
     },
     "execution_count": 3,
     "metadata": {},
     "output_type": "execute_result"
    }
   ],
   "source": [
    "7 % 3"
   ]
  },
  {
   "cell_type": "code",
   "execution_count": 4,
   "id": "63a3c4ad-5e9a-4aec-9a42-1a34af24b86b",
   "metadata": {},
   "outputs": [
    {
     "data": {
      "text/plain": [
       "100"
      ]
     },
     "execution_count": 4,
     "metadata": {},
     "output_type": "execute_result"
    }
   ],
   "source": [
    "4 * 5 ** 2"
   ]
  },
  {
   "cell_type": "code",
   "execution_count": 5,
   "id": "7b9eb5c1-1f04-45c8-8599-f1d9722b1855",
   "metadata": {},
   "outputs": [
    {
     "data": {
      "text/plain": [
       "400"
      ]
     },
     "execution_count": 5,
     "metadata": {},
     "output_type": "execute_result"
    }
   ],
   "source": [
    "(4 * 5) ** 2"
   ]
  },
  {
   "cell_type": "markdown",
   "id": "df3e4d27-d864-4c12-b480-b18feb69ccd7",
   "metadata": {},
   "source": [
    "### Your turn #1 (individual)\n",
    "\n",
    "Given a right-angled triangle with sides 7 m and 9 m, find the length of the hypotenuse"
   ]
  },
  {
   "cell_type": "markdown",
   "id": "6b676677-d754-4cfc-aeb5-b9331b22d8b3",
   "metadata": {},
   "source": [
    "$\\sqrt{7^2 + 9^2}$"
   ]
  },
  {
   "cell_type": "code",
   "execution_count": 6,
   "id": "ee8d674e-34b1-478a-a14b-4770c6d052a3",
   "metadata": {},
   "outputs": [
    {
     "data": {
      "text/plain": [
       "11.40175425099138"
      ]
     },
     "execution_count": 6,
     "metadata": {},
     "output_type": "execute_result"
    }
   ],
   "source": [
    "(7**2 + 9**2)**(1/2)"
   ]
  },
  {
   "cell_type": "code",
   "execution_count": 7,
   "id": "f82a1d42-ddb0-4084-83e1-b6eb21f99d8d",
   "metadata": {},
   "outputs": [
    {
     "data": {
      "text/plain": [
       "11.40175425099138"
      ]
     },
     "execution_count": 7,
     "metadata": {},
     "output_type": "execute_result"
    }
   ],
   "source": [
    "(7**2 + 9**2)**0.5"
   ]
  },
  {
   "cell_type": "markdown",
   "id": "cad1ad4c-6f47-45e8-90a3-0c10c8953ff8",
   "metadata": {},
   "source": [
    "## Variables"
   ]
  },
  {
   "cell_type": "code",
   "execution_count": 8,
   "id": "d0b4ff32-3800-42b1-839f-ae53a052bef0",
   "metadata": {},
   "outputs": [
    {
     "data": {
      "text/plain": [
       "17"
      ]
     },
     "execution_count": 8,
     "metadata": {},
     "output_type": "execute_result"
    }
   ],
   "source": [
    "x = 10\n",
    "x + 7"
   ]
  },
  {
   "cell_type": "code",
   "execution_count": 9,
   "id": "7336bf15-9df0-48df-8d28-eae0ca2b3d10",
   "metadata": {},
   "outputs": [
    {
     "data": {
      "text/plain": [
       "30"
      ]
     },
     "execution_count": 9,
     "metadata": {},
     "output_type": "execute_result"
    }
   ],
   "source": [
    "y = 3\n",
    "x * y"
   ]
  },
  {
   "cell_type": "code",
   "execution_count": 10,
   "id": "99f6ba2d-31fe-42a2-b014-41a438dea4d4",
   "metadata": {},
   "outputs": [
    {
     "data": {
      "text/plain": [
       "6"
      ]
     },
     "execution_count": 10,
     "metadata": {},
     "output_type": "execute_result"
    }
   ],
   "source": [
    "x = 5\n",
    "x = x + 1\n",
    "x"
   ]
  },
  {
   "cell_type": "code",
   "execution_count": 11,
   "id": "7ce475dc-88d8-45fc-b628-4f86b741ff04",
   "metadata": {
    "editable": true,
    "slideshow": {
     "slide_type": ""
    },
    "tags": [
     "raises-exception"
    ]
   },
   "outputs": [
    {
     "ename": "SyntaxError",
     "evalue": "cannot assign to expression here. Maybe you meant '==' instead of '='? (3255971043.py, line 1)",
     "output_type": "error",
     "traceback": [
      "\u001b[0;36m  Cell \u001b[0;32mIn[11], line 1\u001b[0;36m\u001b[0m\n\u001b[0;31m    x + 1 = x\u001b[0m\n\u001b[0m    ^\u001b[0m\n\u001b[0;31mSyntaxError\u001b[0m\u001b[0;31m:\u001b[0m cannot assign to expression here. Maybe you meant '==' instead of '='?\n"
     ]
    }
   ],
   "source": [
    "x + 1 = x"
   ]
  },
  {
   "cell_type": "markdown",
   "id": "cc2d1a0c-b312-4a92-ae7d-ae0f08ca3d40",
   "metadata": {},
   "source": [
    "**Warning!**: The kernel remembers the order of **execution**, not the order of **presentation**!"
   ]
  },
  {
   "cell_type": "code",
   "execution_count": 12,
   "id": "6931f669-51c8-4892-b89b-3bc7fba3faee",
   "metadata": {},
   "outputs": [],
   "source": [
    "x = 17"
   ]
  },
  {
   "cell_type": "code",
   "execution_count": 13,
   "id": "47bdd3b5-797c-4b41-bd02-c4778106a1e0",
   "metadata": {},
   "outputs": [
    {
     "data": {
      "text/plain": [
       "51"
      ]
     },
     "execution_count": 13,
     "metadata": {},
     "output_type": "execute_result"
    }
   ],
   "source": [
    "x * 3"
   ]
  },
  {
   "cell_type": "code",
   "execution_count": 14,
   "id": "5169994b-6523-48a1-8965-7311441496b2",
   "metadata": {},
   "outputs": [],
   "source": [
    "x = 15"
   ]
  },
  {
   "cell_type": "code",
   "execution_count": 15,
   "id": "3ee03ce0-c06f-49cf-94e2-1295a3ae94b8",
   "metadata": {},
   "outputs": [
    {
     "data": {
      "text/plain": [
       "5.0"
      ]
     },
     "execution_count": 15,
     "metadata": {},
     "output_type": "execute_result"
    }
   ],
   "source": [
    "x / 3"
   ]
  },
  {
   "cell_type": "markdown",
   "id": "59aca300-733e-4121-9438-947d8272ce9f",
   "metadata": {},
   "source": [
    "### Poll #2 (think-pair-share; JupyterHub **off**)\n",
    "What is the output of the cell below?\n",
    "```python\n",
    "x = 23.5\n",
    "y = x\n",
    "x = x + 1\n",
    "y\n",
    "```"
   ]
  },
  {
   "cell_type": "code",
   "execution_count": 16,
   "id": "78418ac6-6b08-485b-bb44-c11f4ef3aba2",
   "metadata": {},
   "outputs": [
    {
     "data": {
      "text/plain": [
       "23.5"
      ]
     },
     "execution_count": 16,
     "metadata": {},
     "output_type": "execute_result"
    }
   ],
   "source": [
    "x = 23.5\n",
    "y = x\n",
    "x = x + 1\n",
    "y"
   ]
  },
  {
   "cell_type": "markdown",
   "id": "121541d5-675c-475c-a9f0-dfa7ed4e8d2a",
   "metadata": {},
   "source": [
    "## Types of values"
   ]
  },
  {
   "cell_type": "markdown",
   "id": "d8f9645d-82c4-411f-b89e-38c6c31be0b8",
   "metadata": {},
   "source": [
    "\"Primitive\" types in python\n",
    "+ `int`: type of integers (exact)\n",
    "+ `float`: type of floating-point number (limited precision)\n",
    "+ `str`: type of strings\n",
    "+ `bool`: type of boolean values (`True` or `False`)\n",
    "+ `None`: the None type"
   ]
  },
  {
   "cell_type": "code",
   "execution_count": 17,
   "id": "4e35915e-337f-45a2-aa31-c9f24e84d46a",
   "metadata": {},
   "outputs": [
    {
     "name": "stdout",
     "output_type": "stream",
     "text": [
      "<class 'int'>\n",
      "<class 'bool'>\n",
      "<class 'float'>\n"
     ]
    }
   ],
   "source": [
    "a = 10\n",
    "b = False\n",
    "c = 16.7\n",
    "\n",
    "print(type(a))\n",
    "print(type(b))\n",
    "print(type(c))"
   ]
  },
  {
   "cell_type": "code",
   "execution_count": 18,
   "id": "5847c4d7-b2f6-42cd-97f8-330ff616c2f6",
   "metadata": {},
   "outputs": [
    {
     "data": {
      "text/plain": [
       "0.30000000000000004"
      ]
     },
     "execution_count": 18,
     "metadata": {},
     "output_type": "execute_result"
    }
   ],
   "source": [
    "# floating point arithmetic is not always exact\n",
    "0.1 + 0.2"
   ]
  },
  {
   "cell_type": "code",
   "execution_count": 19,
   "id": "0d6026be-0992-46c4-a8c3-883fe74a9451",
   "metadata": {},
   "outputs": [
    {
     "data": {
      "text/plain": [
       "3000000006"
      ]
     },
     "execution_count": 19,
     "metadata": {},
     "output_type": "execute_result"
    }
   ],
   "source": [
    "# integer arithmetic is exact\n",
    "# NOTE: you can use underscore to make literal numerical values more readible\n",
    "1_000_000_002 + 2_000_000_004"
   ]
  },
  {
   "cell_type": "code",
   "execution_count": 20,
   "id": "ec7fefd8-de31-480a-89cf-2a20fea83497",
   "metadata": {},
   "outputs": [
    {
     "name": "stdout",
     "output_type": "stream",
     "text": [
      "10.0\n",
      "0\n",
      "16\n"
     ]
    }
   ],
   "source": [
    "a2 = float(a)\n",
    "b2 = int(b)\n",
    "c2 = int(c)\n",
    "\n",
    "print(a2)\n",
    "print(b2)\n",
    "print(c2)"
   ]
  },
  {
   "cell_type": "code",
   "execution_count": 21,
   "id": "b0a0bc0c-0ad1-472f-b48e-a683fcf4ff0e",
   "metadata": {},
   "outputs": [
    {
     "name": "stdout",
     "output_type": "stream",
     "text": [
      "167.0\n",
      "<class 'float'>\n"
     ]
    }
   ],
   "source": [
    "# Note implicit conversion of types\n",
    "print(a * c)\n",
    "print(type(a * c))"
   ]
  },
  {
   "cell_type": "code",
   "execution_count": 22,
   "id": "6adc35c7-c81d-44ea-a920-72dd649be8da",
   "metadata": {},
   "outputs": [
    {
     "name": "stdout",
     "output_type": "stream",
     "text": [
      "0\n",
      "<class 'int'>\n"
     ]
    }
   ],
   "source": [
    "# Note implicit conversion of types\n",
    "print(a * b)\n",
    "print(type(a * b))"
   ]
  },
  {
   "cell_type": "code",
   "execution_count": 23,
   "id": "73024fa7-13be-4084-b4b9-b6a42a8a4b01",
   "metadata": {
    "editable": true,
    "slideshow": {
     "slide_type": ""
    },
    "tags": []
   },
   "outputs": [
    {
     "data": {
      "text/plain": [
       "1"
      ]
     },
     "execution_count": 23,
     "metadata": {},
     "output_type": "execute_result"
    }
   ],
   "source": [
    "# Value of most types is output by Jupyter if it is the last line\n",
    "1"
   ]
  },
  {
   "cell_type": "code",
   "execution_count": 24,
   "id": "704be762-9e90-4295-868c-d0dda71b1529",
   "metadata": {
    "editable": true,
    "slideshow": {
     "slide_type": ""
    },
    "tags": []
   },
   "outputs": [],
   "source": [
    "# None is \"invisible\" in Jupyter notebook output\n",
    "None"
   ]
  },
  {
   "cell_type": "code",
   "execution_count": 25,
   "id": "23d60a87-d2d9-4176-ba07-dce318e7bb12",
   "metadata": {
    "editable": true,
    "slideshow": {
     "slide_type": ""
    },
    "tags": []
   },
   "outputs": [
    {
     "data": {
      "text/plain": [
       "'None'"
      ]
     },
     "execution_count": 25,
     "metadata": {},
     "output_type": "execute_result"
    }
   ],
   "source": [
    "str(None)"
   ]
  },
  {
   "cell_type": "code",
   "execution_count": 26,
   "id": "b26d1ea2-a0ba-4f0c-b550-fd45d65580a8",
   "metadata": {
    "editable": true,
    "slideshow": {
     "slide_type": ""
    },
    "tags": [
     "raises-exception"
    ]
   },
   "outputs": [
    {
     "ename": "TypeError",
     "evalue": "unsupported operand type(s) for *: 'NoneType' and 'int'",
     "output_type": "error",
     "traceback": [
      "\u001b[0;31m---------------------------------------------------------------------------\u001b[0m",
      "\u001b[0;31mTypeError\u001b[0m                                 Traceback (most recent call last)",
      "Cell \u001b[0;32mIn[26], line 2\u001b[0m\n\u001b[1;32m      1\u001b[0m \u001b[38;5;66;03m# None has very few valid operations\u001b[39;00m\n\u001b[0;32m----> 2\u001b[0m \u001b[38;5;28;43;01mNone\u001b[39;49;00m\u001b[43m \u001b[49m\u001b[38;5;241;43m*\u001b[39;49m\u001b[43m \u001b[49m\u001b[43ma\u001b[49m\n",
      "\u001b[0;31mTypeError\u001b[0m: unsupported operand type(s) for *: 'NoneType' and 'int'"
     ]
    }
   ],
   "source": [
    "# None has very few valid operations\n",
    "None * a"
   ]
  },
  {
   "cell_type": "code",
   "execution_count": 27,
   "id": "b9cc193d-fc81-4ab0-a095-0bb77db28bcd",
   "metadata": {
    "editable": true,
    "slideshow": {
     "slide_type": ""
    },
    "tags": [
     "raises-exception"
    ]
   },
   "outputs": [
    {
     "ename": "TypeError",
     "evalue": "int() argument must be a string, a bytes-like object or a real number, not 'NoneType'",
     "output_type": "error",
     "traceback": [
      "\u001b[0;31m---------------------------------------------------------------------------\u001b[0m",
      "\u001b[0;31mTypeError\u001b[0m                                 Traceback (most recent call last)",
      "Cell \u001b[0;32mIn[27], line 2\u001b[0m\n\u001b[1;32m      1\u001b[0m \u001b[38;5;66;03m# None has very few valid operations\u001b[39;00m\n\u001b[0;32m----> 2\u001b[0m \u001b[38;5;28;43mint\u001b[39;49m\u001b[43m(\u001b[49m\u001b[38;5;28;43;01mNone\u001b[39;49;00m\u001b[43m)\u001b[49m\n",
      "\u001b[0;31mTypeError\u001b[0m: int() argument must be a string, a bytes-like object or a real number, not 'NoneType'"
     ]
    }
   ],
   "source": [
    "# None has very few valid operations\n",
    "int(None)"
   ]
  },
  {
   "cell_type": "code",
   "execution_count": 28,
   "id": "9c644f6c-3316-46f0-8da9-ea50f1200f41",
   "metadata": {
    "editable": true,
    "slideshow": {
     "slide_type": ""
    },
    "tags": []
   },
   "outputs": [
    {
     "data": {
      "text/plain": [
       "'this is a stringthat is a number'"
      ]
     },
     "execution_count": 28,
     "metadata": {},
     "output_type": "execute_result"
    }
   ],
   "source": [
    "this = \"this is a string\"\n",
    "that = \"that is a number\"\n",
    "\n",
    "this + that"
   ]
  },
  {
   "cell_type": "code",
   "execution_count": 29,
   "id": "d4196993-b42d-4949-85d5-127839d39583",
   "metadata": {},
   "outputs": [
    {
     "data": {
      "text/plain": [
       "'this is a stringthis is a stringthis is a string'"
      ]
     },
     "execution_count": 29,
     "metadata": {},
     "output_type": "execute_result"
    }
   ],
   "source": [
    "this * 3"
   ]
  },
  {
   "cell_type": "code",
   "execution_count": 30,
   "id": "eafcccc5-4087-4c38-b19b-8e6cc47d28b1",
   "metadata": {
    "editable": true,
    "slideshow": {
     "slide_type": ""
    },
    "tags": [
     "raises-exception"
    ]
   },
   "outputs": [
    {
     "ename": "TypeError",
     "evalue": "can only concatenate str (not \"float\") to str",
     "output_type": "error",
     "traceback": [
      "\u001b[0;31m---------------------------------------------------------------------------\u001b[0m",
      "\u001b[0;31mTypeError\u001b[0m                                 Traceback (most recent call last)",
      "Cell \u001b[0;32mIn[30], line 1\u001b[0m\n\u001b[0;32m----> 1\u001b[0m \u001b[43mthat\u001b[49m\u001b[43m \u001b[49m\u001b[38;5;241;43m+\u001b[39;49m\u001b[43m \u001b[49m\u001b[43ma2\u001b[49m\n",
      "\u001b[0;31mTypeError\u001b[0m: can only concatenate str (not \"float\") to str"
     ]
    }
   ],
   "source": [
    "that + a2"
   ]
  },
  {
   "cell_type": "code",
   "execution_count": 31,
   "id": "b7097744-d390-4aa7-b74a-5df560f45b81",
   "metadata": {
    "editable": true,
    "slideshow": {
     "slide_type": ""
    },
    "tags": []
   },
   "outputs": [
    {
     "data": {
      "text/plain": [
       "'that is a number10.0'"
      ]
     },
     "execution_count": 31,
     "metadata": {},
     "output_type": "execute_result"
    }
   ],
   "source": [
    "that + str(a2)"
   ]
  },
  {
   "cell_type": "markdown",
   "id": "6efd3aba-140e-496d-8008-e28a3822563a",
   "metadata": {
    "editable": true,
    "slideshow": {
     "slide_type": ""
    },
    "tags": []
   },
   "source": [
    "### Poll #3 (individual; JupyterHub **off**)\n",
    "What is the output of the cell below?\n",
    "```python\n",
    "a = 10\n",
    "b = True\n",
    "print(type(a * b))\n",
    "```"
   ]
  },
  {
   "cell_type": "code",
   "execution_count": 59,
   "id": "b96a0dec-4396-4f0c-b5a5-ac1322fbb55f",
   "metadata": {
    "editable": true,
    "slideshow": {
     "slide_type": ""
    },
    "tags": []
   },
   "outputs": [
    {
     "name": "stdout",
     "output_type": "stream",
     "text": [
      "<class 'int'>\n"
     ]
    }
   ],
   "source": [
    "a = 10\n",
    "b = True\n",
    "print(type(a * b))"
   ]
  },
  {
   "cell_type": "markdown",
   "id": "a8ae08e6-bd75-4b1a-ab3b-43e59c386c7f",
   "metadata": {
    "editable": true,
    "slideshow": {
     "slide_type": ""
    },
    "tags": []
   },
   "source": [
    "## Logical statements"
   ]
  },
  {
   "cell_type": "markdown",
   "id": "a8078bcb-d291-495d-9238-36e8596bf597",
   "metadata": {},
   "source": [
    "+ `==`: operator for “equal to” comparisons\n",
    "+ `!=`: operator for “unequal to” comparisons\n",
    "+ `>`: operator for “greater than” comparisons\n",
    "+ `<`: operator for “less than” comparisons\n",
    "+ `>=`: operator for “greater than or equal to” comparisons\n",
    "+ `<=`: operator for “less than or equal to” comparisons"
   ]
  },
  {
   "cell_type": "code",
   "execution_count": 32,
   "id": "0deefb9e-2151-440e-acf0-9ace7b48e053",
   "metadata": {},
   "outputs": [],
   "source": [
    "a = 10\n",
    "b = -2\n",
    "c = 16.7"
   ]
  },
  {
   "cell_type": "code",
   "execution_count": 33,
   "id": "47ae034c-1550-4701-b943-6bdec9149d44",
   "metadata": {},
   "outputs": [
    {
     "data": {
      "text/plain": [
       "True"
      ]
     },
     "execution_count": 33,
     "metadata": {},
     "output_type": "execute_result"
    }
   ],
   "source": [
    "(c - a) > 0"
   ]
  },
  {
   "cell_type": "code",
   "execution_count": 34,
   "id": "bfdff8a2-6b0e-4099-882b-0251cce0e7ea",
   "metadata": {},
   "outputs": [
    {
     "data": {
      "text/plain": [
       "True"
      ]
     },
     "execution_count": 34,
     "metadata": {},
     "output_type": "execute_result"
    }
   ],
   "source": [
    "a == 10"
   ]
  },
  {
   "cell_type": "code",
   "execution_count": 35,
   "id": "b7c34331-3ca7-48b7-b74f-66953d7354ad",
   "metadata": {},
   "outputs": [
    {
     "data": {
      "text/plain": [
       "False"
      ]
     },
     "execution_count": 35,
     "metadata": {},
     "output_type": "execute_result"
    }
   ],
   "source": [
    "0.1 + 0.2 == 0.3"
   ]
  },
  {
   "cell_type": "code",
   "execution_count": 36,
   "id": "1f129f35-3d8c-4863-b3e8-2cb0aaf9873e",
   "metadata": {},
   "outputs": [
    {
     "data": {
      "text/plain": [
       "True"
      ]
     },
     "execution_count": 36,
     "metadata": {},
     "output_type": "execute_result"
    }
   ],
   "source": [
    "eps = 1.0e-5\n",
    "abs(0.1 + 0.2 - 0.3) < eps"
   ]
  },
  {
   "cell_type": "code",
   "execution_count": 37,
   "id": "2e43592f-232d-480a-9bf2-634d7f07487c",
   "metadata": {},
   "outputs": [
    {
     "name": "stdout",
     "output_type": "stream",
     "text": [
      "True\n",
      "False\n",
      "False\n"
     ]
    }
   ],
   "source": [
    "x = 3\n",
    "print(x < 4)   # Is x less than 4?\n",
    "print(x >= 5)  # Is x greater than or equal to 5?\n",
    "print(x == 2)  # Is x equal to 2?"
   ]
  },
  {
   "cell_type": "markdown",
   "id": "5961aec9-1d8e-464a-9101-7f71dbc53fae",
   "metadata": {
    "editable": true,
    "slideshow": {
     "slide_type": ""
    },
    "tags": []
   },
   "source": [
    "### Poll #4 (individual; JupyterHub **off**)\n",
    "What is the output of the code below?\n",
    "```python\n",
    "x = -1\n",
    "print(x != x)\n",
    "```"
   ]
  },
  {
   "cell_type": "code",
   "execution_count": 38,
   "id": "1f842a4e-baf9-443b-97be-89a314a3b1f7",
   "metadata": {},
   "outputs": [
    {
     "data": {
      "text/plain": [
       "False"
      ]
     },
     "execution_count": 38,
     "metadata": {},
     "output_type": "execute_result"
    }
   ],
   "source": [
    "x = -1\n",
    "x != x"
   ]
  },
  {
   "cell_type": "markdown",
   "id": "482b0fe7-9a35-461a-9a3b-cef0909a17a9",
   "metadata": {
    "editable": true,
    "slideshow": {
     "slide_type": ""
    },
    "tags": []
   },
   "source": [
    "### Compound logical statements"
   ]
  },
  {
   "cell_type": "markdown",
   "id": "1d173645-bdcb-44f1-8280-6fad70d24b43",
   "metadata": {},
   "source": [
    "+ `and`: operator to join two logical statements with an “and”\n",
    "+ `or`: operator to join two logical statements with an “or”\n",
    "+ `not`: operator to negate a logical statement"
   ]
  },
  {
   "cell_type": "code",
   "execution_count": 39,
   "id": "e917a4e7-fa8c-4ceb-a9e1-f65f4c77e373",
   "metadata": {},
   "outputs": [
    {
     "data": {
      "text/plain": [
       "True"
      ]
     },
     "execution_count": 39,
     "metadata": {},
     "output_type": "execute_result"
    }
   ],
   "source": [
    "x = 5\n",
    "1 < x and x < 6"
   ]
  },
  {
   "cell_type": "code",
   "execution_count": 40,
   "id": "171e9bbc-0afe-4f8b-b28a-47692c0a3098",
   "metadata": {},
   "outputs": [
    {
     "data": {
      "text/plain": [
       "True"
      ]
     },
     "execution_count": 40,
     "metadata": {},
     "output_type": "execute_result"
    }
   ],
   "source": [
    "1 > x or x > 4"
   ]
  },
  {
   "cell_type": "code",
   "execution_count": 41,
   "id": "cf5ae8bd-cba8-4115-86a2-21e5293bcdf8",
   "metadata": {},
   "outputs": [
    {
     "data": {
      "text/plain": [
       "True"
      ]
     },
     "execution_count": 41,
     "metadata": {},
     "output_type": "execute_result"
    }
   ],
   "source": [
    "not x < 0"
   ]
  },
  {
   "cell_type": "markdown",
   "id": "7a612b92-30e6-4ebd-9ae4-e7891b328f7e",
   "metadata": {
    "editable": true,
    "slideshow": {
     "slide_type": ""
    },
    "tags": []
   },
   "source": [
    "### Your turn #2 (individual)\n",
    "Write the test that check if `x` is between 1 and 10 (endpoints inclusive)"
   ]
  },
  {
   "cell_type": "code",
   "execution_count": 60,
   "id": "4fff2599-c0e6-416f-96b5-9a8777ce3ec1",
   "metadata": {
    "editable": true,
    "slideshow": {
     "slide_type": ""
    },
    "tags": []
   },
   "outputs": [
    {
     "data": {
      "text/plain": [
       "True"
      ]
     },
     "execution_count": 60,
     "metadata": {},
     "output_type": "execute_result"
    }
   ],
   "source": [
    "x >= 1 and x <= 10"
   ]
  },
  {
   "cell_type": "markdown",
   "id": "83b7357a-f913-417b-a267-ecd5fa37e480",
   "metadata": {
    "editable": true,
    "slideshow": {
     "slide_type": ""
    },
    "tags": []
   },
   "source": [
    "## Python list"
   ]
  },
  {
   "cell_type": "code",
   "execution_count": 42,
   "id": "9dd72d8d-9668-4d0a-bd2d-dfdb98b8608c",
   "metadata": {},
   "outputs": [
    {
     "data": {
      "text/plain": [
       "1"
      ]
     },
     "execution_count": 42,
     "metadata": {},
     "output_type": "execute_result"
    }
   ],
   "source": [
    "s = [1, 2, 3, 4, 5, 6, 7, 8, 9, 10]\n",
    "s[0]"
   ]
  },
  {
   "cell_type": "code",
   "execution_count": 43,
   "id": "e225aef7-5108-4cef-8573-96b0744bdd1f",
   "metadata": {},
   "outputs": [
    {
     "data": {
      "text/plain": [
       "10"
      ]
     },
     "execution_count": 43,
     "metadata": {},
     "output_type": "execute_result"
    }
   ],
   "source": [
    "s[-1]"
   ]
  },
  {
   "cell_type": "code",
   "execution_count": 44,
   "id": "4dcb2bf7-24d7-4439-a149-cc4b0d541244",
   "metadata": {},
   "outputs": [
    {
     "data": {
      "text/plain": [
       "[3, 4, 5, 6]"
      ]
     },
     "execution_count": 44,
     "metadata": {},
     "output_type": "execute_result"
    }
   ],
   "source": [
    "s[2:6]"
   ]
  },
  {
   "cell_type": "code",
   "execution_count": 45,
   "id": "0264185c-550c-4de2-ab85-3acbfc5e98fc",
   "metadata": {},
   "outputs": [
    {
     "data": {
      "text/plain": [
       "[3, 4, 5, 6, 7, 8, 9, 10]"
      ]
     },
     "execution_count": 45,
     "metadata": {},
     "output_type": "execute_result"
    }
   ],
   "source": [
    "s[2:]"
   ]
  },
  {
   "cell_type": "code",
   "execution_count": 46,
   "id": "bbc16830-d95e-4d2e-b9be-ae328a0d748a",
   "metadata": {},
   "outputs": [
    {
     "data": {
      "text/plain": [
       "[2, 4, 6, 8]"
      ]
     },
     "execution_count": 46,
     "metadata": {},
     "output_type": "execute_result"
    }
   ],
   "source": [
    "# start:stop:step\n",
    "s[1:8:2]"
   ]
  },
  {
   "cell_type": "code",
   "execution_count": 47,
   "id": "fdb71530-05e6-450b-9594-108679656c22",
   "metadata": {
    "editable": true,
    "slideshow": {
     "slide_type": ""
    },
    "tags": []
   },
   "outputs": [
    {
     "data": {
      "text/plain": [
       "10"
      ]
     },
     "execution_count": 47,
     "metadata": {},
     "output_type": "execute_result"
    }
   ],
   "source": [
    "len(s)"
   ]
  },
  {
   "cell_type": "code",
   "execution_count": 48,
   "id": "62cf9e0c-fd8b-4f70-92eb-5d89d62134a5",
   "metadata": {
    "editable": true,
    "slideshow": {
     "slide_type": ""
    },
    "tags": []
   },
   "outputs": [
    {
     "data": {
      "text/plain": [
       "4"
      ]
     },
     "execution_count": 48,
     "metadata": {},
     "output_type": "execute_result"
    }
   ],
   "source": [
    "s.index(5)"
   ]
  },
  {
   "cell_type": "code",
   "execution_count": 49,
   "id": "6535f51d-1802-4b37-8536-248f148a602b",
   "metadata": {},
   "outputs": [
    {
     "data": {
      "text/plain": [
       "False"
      ]
     },
     "execution_count": 49,
     "metadata": {},
     "output_type": "execute_result"
    }
   ],
   "source": [
    "0 in s"
   ]
  },
  {
   "cell_type": "code",
   "execution_count": 50,
   "id": "8c5b2d38-f789-416d-a73a-0efeefb61c79",
   "metadata": {
    "editable": true,
    "slideshow": {
     "slide_type": ""
    },
    "tags": []
   },
   "outputs": [
    {
     "data": {
      "text/plain": [
       "True"
      ]
     },
     "execution_count": 50,
     "metadata": {},
     "output_type": "execute_result"
    }
   ],
   "source": [
    "1 in s"
   ]
  },
  {
   "cell_type": "code",
   "execution_count": 51,
   "id": "cb1c98d1-fa8c-4517-915e-ea38a619616e",
   "metadata": {},
   "outputs": [
    {
     "data": {
      "text/plain": [
       "True"
      ]
     },
     "execution_count": 51,
     "metadata": {},
     "output_type": "execute_result"
    }
   ],
   "source": [
    "1.0 in s"
   ]
  },
  {
   "cell_type": "markdown",
   "id": "d01de9f2-a6dd-40cc-85cd-dcff639f3b62",
   "metadata": {
    "editable": true,
    "slideshow": {
     "slide_type": ""
    },
    "tags": []
   },
   "source": [
    "### Poll #5 (think-pair-share, JupyterHub **off**)\n",
    "What is the output of the code block below?\n",
    "```python\n",
    "words = ['Oceanography', 'Is', 'Super', 'Cool']\n",
    "words[:-1:2]\n",
    "```"
   ]
  },
  {
   "cell_type": "code",
   "execution_count": 52,
   "id": "3a48b603-c4dc-463e-938f-3fbff7cce02d",
   "metadata": {},
   "outputs": [
    {
     "data": {
      "text/plain": [
       "['Oceanography', 'Super']"
      ]
     },
     "execution_count": 52,
     "metadata": {},
     "output_type": "execute_result"
    }
   ],
   "source": [
    "words = ['Oceanography', 'Is', 'Super', 'Cool']\n",
    "words[:-1:2]"
   ]
  },
  {
   "cell_type": "code",
   "execution_count": 53,
   "id": "6f040151-4fc8-4d00-a07f-bb1cc9fac142",
   "metadata": {},
   "outputs": [
    {
     "data": {
      "text/plain": [
       "['Oceanography', 'Is', 'Super']"
      ]
     },
     "execution_count": 53,
     "metadata": {},
     "output_type": "execute_result"
    }
   ],
   "source": [
    "words = ['Oceanography', 'Is', 'Super', 'Cool']\n",
    "words[:-1]"
   ]
  },
  {
   "cell_type": "markdown",
   "id": "504e2ad2-5d24-4a68-be13-621f00945f80",
   "metadata": {
    "editable": true,
    "slideshow": {
     "slide_type": ""
    },
    "tags": []
   },
   "source": [
    "### Poll #6 (think-pair-share, JupyterHub **off**)\n",
    "What is the output of the code block below?\n",
    "```python\n",
    "words = ['Oceanography', 'Is', 'Super', 'Cool']\n",
    "'cool' in words\n",
    "```"
   ]
  },
  {
   "cell_type": "code",
   "execution_count": 54,
   "id": "c7ddd929-e04e-4a90-ba35-24c909d96c9f",
   "metadata": {},
   "outputs": [
    {
     "data": {
      "text/plain": [
       "False"
      ]
     },
     "execution_count": 54,
     "metadata": {},
     "output_type": "execute_result"
    }
   ],
   "source": [
    "words = ['Oceanography', 'Is', 'Super', 'Cool']\n",
    "'cool' in words"
   ]
  },
  {
   "cell_type": "markdown",
   "id": "e8f87b01-c743-4513-808c-01930f9ca64a",
   "metadata": {
    "editable": true,
    "slideshow": {
     "slide_type": ""
    },
    "tags": []
   },
   "source": [
    "### List modifications"
   ]
  },
  {
   "cell_type": "code",
   "execution_count": 55,
   "id": "80aab417-269b-484d-a034-5bcc9a0fbb04",
   "metadata": {},
   "outputs": [
    {
     "name": "stdout",
     "output_type": "stream",
     "text": [
      "[3.5, 6.7, 2, 4, 9.5, 10, 11.5, 2.6]\n"
     ]
    }
   ],
   "source": [
    "y = [3.5, 6.7, 2, 5, 9.5, 10, 11.5, 2.6]\n",
    "y[3] = 4 # Replaces number at index position 3 with what we assign\n",
    "print(y)"
   ]
  },
  {
   "cell_type": "code",
   "execution_count": 56,
   "id": "a4a00c19-afb4-4022-b4e3-280737eaed82",
   "metadata": {},
   "outputs": [
    {
     "data": {
      "text/plain": [
       "[3.5, 6.7, 2, 4, 9.5, 10, 11.5, 2.6, 14]"
      ]
     },
     "execution_count": 56,
     "metadata": {},
     "output_type": "execute_result"
    }
   ],
   "source": [
    "y.append(14) # Appends number in parenthesis to end of list\n",
    "y"
   ]
  },
  {
   "cell_type": "code",
   "execution_count": 57,
   "id": "20e15d40-2b42-4b3b-a9b8-e18622fae226",
   "metadata": {},
   "outputs": [
    {
     "data": {
      "text/plain": [
       "[3.5, 6.7, 2, 4, 9.5, 10, 11.5, 2.6, 14, -2, -5]"
      ]
     },
     "execution_count": 57,
     "metadata": {},
     "output_type": "execute_result"
    }
   ],
   "source": [
    "y.extend([-2, -5])\n",
    "y"
   ]
  },
  {
   "cell_type": "markdown",
   "id": "c354decc-a6df-48d4-bde1-d679b2c561f6",
   "metadata": {},
   "source": [
    "### Poll #7 (think-pair-share; Device **off**)\n",
    "What is the output of the code block below?\n",
    "```python\n",
    "a = [7, 5, 3, 1]\n",
    "b = a\n",
    "a[2] = 0\n",
    "print(b)\n",
    "```"
   ]
  },
  {
   "cell_type": "code",
   "execution_count": 58,
   "id": "05ec01e2-a422-46ae-9b0a-1ae159994b4e",
   "metadata": {},
   "outputs": [
    {
     "name": "stdout",
     "output_type": "stream",
     "text": [
      "[7, 5, 0, 1]\n"
     ]
    }
   ],
   "source": [
    "a = [7, 5, 3, 1]\n",
    "b = a\n",
    "a[2] = 0\n",
    "print(b)"
   ]
  },
  {
   "cell_type": "code",
   "execution_count": null,
   "id": "0c3127d8-71e9-4bd0-955e-8d88cf9acc8a",
   "metadata": {},
   "outputs": [],
   "source": []
  }
 ],
 "metadata": {
  "kernelspec": {
   "display_name": "Python 3 (ipykernel)",
   "language": "python",
   "name": "python3"
  },
  "language_info": {
   "codemirror_mode": {
    "name": "ipython",
    "version": 3
   },
   "file_extension": ".py",
   "mimetype": "text/x-python",
   "name": "python",
   "nbconvert_exporter": "python",
   "pygments_lexer": "ipython3",
   "version": "3.11.13"
  }
 },
 "nbformat": 4,
 "nbformat_minor": 5
}
