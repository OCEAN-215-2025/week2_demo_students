{
 "cells": [
  {
   "cell_type": "markdown",
   "id": "0c936a8c-89da-4103-99c2-70a5253033f3",
   "metadata": {},
   "source": [
    "# Week 2 demos"
   ]
  },
  {
   "cell_type": "markdown",
   "id": "f9431289-dfce-426c-9b64-e637868ebe1e",
   "metadata": {},
   "source": [
    "## Using Jupyter notebook"
   ]
  },
  {
   "cell_type": "markdown",
   "id": "a5947ffd-ff26-4b11-b91a-18677b812786",
   "metadata": {},
   "source": [
    "Enter command mode using `Esc`<br>\n",
    "Enter edit mode using `Enter`<br>\n",
    "Execute codes / render texts using `Shift` + `Enter`"
   ]
  },
  {
   "cell_type": "markdown",
   "id": "67f709ff-421f-45e1-b907-64ad284d9fc9",
   "metadata": {},
   "source": [
    "Command mode quick reference:\n",
    "\n",
    "+ `m` converts the current cell into a markdown cell\n",
    "+ `y` converts the current cell into a code cell<br><br>\n",
    "+ `a` inserts a cell above the current cell\n",
    "+ `b` inserts a cell below the current cell<br><br>\n",
    "+ `c` copies the content of the current cell, and `v` pastes it\n",
    "+ `d` + `d` deletes the current cell\n",
    "+ `z` undoes the previous action"
   ]
  },
  {
   "cell_type": "markdown",
   "id": "4519ada8-8987-475a-a30f-6c5572028715",
   "metadata": {},
   "source": [
    "Markdown quick reference:\n",
    "\n",
    "+ Create a list using `+`\n",
    "+ Boldface texts using a pair of `**`\n",
    "+ Italicize texts using a pair of `_`\n",
    "+ Put texts in \"coding font\" using a pair of `` ` ``\n",
    "+ Create headings using `#`'s\n"
   ]
  },
  {
   "cell_type": "markdown",
   "id": "23b6842f-398b-4133-8ab0-688e1087097d",
   "metadata": {},
   "source": [
    "Now let's make a markdown cell, and put in some content"
   ]
  },
  {
   "cell_type": "markdown",
   "id": "08572975-a96b-40b3-ba0d-53a33a9c8d38",
   "metadata": {},
   "source": [
    "### Poll #1 (think-pair-share; JupyterHub **off**)\n",
    "What plain text in a markdown cell will render into the rich output below?"
   ]
  },
  {
   "cell_type": "markdown",
   "id": "387fe5b8-df20-470b-a3a3-5eaab59471d2",
   "metadata": {
    "editable": true,
    "slideshow": {
     "slide_type": ""
    },
    "tags": []
   },
   "source": [
    "+ **Exponentiation** `y = x ** 2`"
   ]
  },
  {
   "cell_type": "markdown",
   "id": "6dc2f66c-94b6-4d32-b2b0-dbec6a97bb5f",
   "metadata": {
    "editable": true,
    "slideshow": {
     "slide_type": ""
    },
    "tags": []
   },
   "source": [
    "## Arithmetic"
   ]
  },
  {
   "cell_type": "markdown",
   "id": "497f5a4c-f70b-4f6a-941e-112e4a359236",
   "metadata": {},
   "source": [
    "+ `+`: operator for adding two numbers\n",
    "+ `-`: operator for subtraction\n",
    "+ `*`: operator for multiplication\n",
    "+ `/`: operator for “true division”\n",
    "+ `//`: operator for “floor division”\n",
    "+ `%`: operator for remainder\n",
    "+ `**`: operator for exponentiation\n",
    "+ `()`: for overriding operator precedence"
   ]
  },
  {
   "cell_type": "code",
   "execution_count": null,
   "id": "d98ddf06-1640-4899-a0cb-8644155408d5",
   "metadata": {},
   "outputs": [],
   "source": [
    "10 * 5"
   ]
  },
  {
   "cell_type": "code",
   "execution_count": null,
   "id": "10a225e5-8c2c-4787-97c1-2a42be1dbc10",
   "metadata": {},
   "outputs": [],
   "source": [
    "7 // 3"
   ]
  },
  {
   "cell_type": "code",
   "execution_count": null,
   "id": "63a3c4ad-5e9a-4aec-9a42-1a34af24b86b",
   "metadata": {},
   "outputs": [],
   "source": [
    "4 * 5 ** 2"
   ]
  },
  {
   "cell_type": "code",
   "execution_count": null,
   "id": "7b9eb5c1-1f04-45c8-8599-f1d9722b1855",
   "metadata": {},
   "outputs": [],
   "source": [
    "(4 * 5) ** 2"
   ]
  },
  {
   "cell_type": "markdown",
   "id": "df3e4d27-d864-4c12-b480-b18feb69ccd7",
   "metadata": {},
   "source": [
    "### Your turn #1 (individual)\n",
    "\n",
    "Given a right-angled triangle with sides 7 m and 9 m, find the length of the hypotenuse"
   ]
  },
  {
   "cell_type": "code",
   "execution_count": null,
   "id": "ee8d674e-34b1-478a-a14b-4770c6d052a3",
   "metadata": {},
   "outputs": [],
   "source": []
  },
  {
   "cell_type": "markdown",
   "id": "cad1ad4c-6f47-45e8-90a3-0c10c8953ff8",
   "metadata": {},
   "source": [
    "## Variables"
   ]
  },
  {
   "cell_type": "code",
   "execution_count": null,
   "id": "d0b4ff32-3800-42b1-839f-ae53a052bef0",
   "metadata": {},
   "outputs": [],
   "source": [
    "x = 10\n",
    "x + 7"
   ]
  },
  {
   "cell_type": "code",
   "execution_count": null,
   "id": "7336bf15-9df0-48df-8d28-eae0ca2b3d10",
   "metadata": {},
   "outputs": [],
   "source": [
    "y = 3\n",
    "x * y"
   ]
  },
  {
   "cell_type": "code",
   "execution_count": null,
   "id": "99f6ba2d-31fe-42a2-b014-41a438dea4d4",
   "metadata": {},
   "outputs": [],
   "source": [
    "x = 5\n",
    "x = x + 1\n",
    "x"
   ]
  },
  {
   "cell_type": "markdown",
   "id": "cc2d1a0c-b312-4a92-ae7d-ae0f08ca3d40",
   "metadata": {},
   "source": [
    "**Warning!**: The kernel remembers the order of **execution**, not the order of **presentation**!"
   ]
  },
  {
   "cell_type": "code",
   "execution_count": null,
   "id": "6931f669-51c8-4892-b89b-3bc7fba3faee",
   "metadata": {},
   "outputs": [],
   "source": [
    "x = 17"
   ]
  },
  {
   "cell_type": "code",
   "execution_count": null,
   "id": "47bdd3b5-797c-4b41-bd02-c4778106a1e0",
   "metadata": {},
   "outputs": [],
   "source": [
    "x * 3"
   ]
  },
  {
   "cell_type": "code",
   "execution_count": null,
   "id": "5169994b-6523-48a1-8965-7311441496b2",
   "metadata": {},
   "outputs": [],
   "source": [
    "x = 15"
   ]
  },
  {
   "cell_type": "code",
   "execution_count": null,
   "id": "3ee03ce0-c06f-49cf-94e2-1295a3ae94b8",
   "metadata": {},
   "outputs": [],
   "source": [
    "x / 3"
   ]
  },
  {
   "cell_type": "markdown",
   "id": "59aca300-733e-4121-9438-947d8272ce9f",
   "metadata": {},
   "source": [
    "### Poll #2 (think-pair-share; JupyterHub **off**)\n",
    "What is the output of the cell below?\n",
    "```python\n",
    "x = 23.5\n",
    "y = x\n",
    "x = x + 1\n",
    "y\n",
    "```"
   ]
  },
  {
   "cell_type": "markdown",
   "id": "121541d5-675c-475c-a9f0-dfa7ed4e8d2a",
   "metadata": {},
   "source": [
    "## Types of values"
   ]
  },
  {
   "cell_type": "markdown",
   "id": "d8f9645d-82c4-411f-b89e-38c6c31be0b8",
   "metadata": {},
   "source": [
    "+ `int`: type of integers (exact)\n",
    "+ `float`: type of floating-point number (limited precision)\n",
    "+ `str`: type of strings\n",
    "+ `bool`: type of boolean values (`True` or `False`)\n",
    "+ `None`: the None type"
   ]
  },
  {
   "cell_type": "code",
   "execution_count": null,
   "id": "4e35915e-337f-45a2-aa31-c9f24e84d46a",
   "metadata": {},
   "outputs": [],
   "source": [
    "a = 10\n",
    "b = False\n",
    "c = 16.7\n",
    "\n",
    "print(type(a))\n",
    "print(type(b))\n",
    "print(type(c))"
   ]
  },
  {
   "cell_type": "code",
   "execution_count": null,
   "id": "b565294a-34d6-42c7-ae4c-082d8e27c63e",
   "metadata": {},
   "outputs": [],
   "source": [
    "a2 = float(a)\n",
    "b2 = int(b)\n",
    "c2 = int(c)\n",
    "\n",
    "print(a2)\n",
    "print(b2)\n",
    "print(c2)"
   ]
  },
  {
   "cell_type": "code",
   "execution_count": null,
   "id": "b0a0bc0c-0ad1-472f-b48e-a683fcf4ff0e",
   "metadata": {},
   "outputs": [],
   "source": [
    "print(a * c)\n",
    "print(type(a * c))"
   ]
  },
  {
   "cell_type": "code",
   "execution_count": null,
   "id": "6adc35c7-c81d-44ea-a920-72dd649be8da",
   "metadata": {},
   "outputs": [],
   "source": [
    "print(a * b)\n",
    "print(type(a * b))"
   ]
  },
  {
   "cell_type": "code",
   "execution_count": null,
   "id": "826038fd-045a-4074-8b6c-f8d373edaa4b",
   "metadata": {},
   "outputs": [],
   "source": [
    "this = \"this is a string\"\n",
    "that = \"that is a number\"\n",
    "\n",
    "this + that"
   ]
  },
  {
   "cell_type": "code",
   "execution_count": null,
   "id": "d4196993-b42d-4949-85d5-127839d39583",
   "metadata": {},
   "outputs": [],
   "source": [
    "this * 3"
   ]
  },
  {
   "cell_type": "code",
   "execution_count": null,
   "id": "eafcccc5-4087-4c38-b19b-8e6cc47d28b1",
   "metadata": {
    "editable": true,
    "slideshow": {
     "slide_type": ""
    },
    "tags": []
   },
   "outputs": [],
   "source": [
    "that + a2"
   ]
  },
  {
   "cell_type": "code",
   "execution_count": null,
   "id": "b7097744-d390-4aa7-b74a-5df560f45b81",
   "metadata": {
    "editable": true,
    "slideshow": {
     "slide_type": ""
    },
    "tags": []
   },
   "outputs": [],
   "source": [
    "that + str(a2)"
   ]
  },
  {
   "cell_type": "markdown",
   "id": "6efd3aba-140e-496d-8008-e28a3822563a",
   "metadata": {
    "editable": true,
    "slideshow": {
     "slide_type": ""
    },
    "tags": []
   },
   "source": [
    "### Poll #3 (think-pair-share; JupyterHub **off**)\n",
    "What is the output of the cell below?\n",
    "```python\n",
    "a = 10\n",
    "b = True\n",
    "print(type(a * b))\n",
    "```"
   ]
  },
  {
   "cell_type": "markdown",
   "id": "a8ae08e6-bd75-4b1a-ab3b-43e59c386c7f",
   "metadata": {
    "editable": true,
    "slideshow": {
     "slide_type": ""
    },
    "tags": []
   },
   "source": [
    "## Logical statements"
   ]
  },
  {
   "cell_type": "markdown",
   "id": "a8078bcb-d291-495d-9238-36e8596bf597",
   "metadata": {},
   "source": [
    "+ `==`: operator for “equal to” comparisons\n",
    "+ `!=`: operator for “unequal to” comparisons\n",
    "+ `>`: operator for “greater than” comparisons\n",
    "+ `<`: operator for “less than” comparisons\n",
    "+ `>=`: operator for “greater than or equal to” comparisons\n",
    "+ `<=`: operator for “less than or equal to” comparisons"
   ]
  },
  {
   "cell_type": "code",
   "execution_count": null,
   "id": "0deefb9e-2151-440e-acf0-9ace7b48e053",
   "metadata": {},
   "outputs": [],
   "source": [
    "a = 10\n",
    "b = -2\n",
    "c = 16.7"
   ]
  },
  {
   "cell_type": "code",
   "execution_count": null,
   "id": "47ae034c-1550-4701-b943-6bdec9149d44",
   "metadata": {},
   "outputs": [],
   "source": [
    "(c - a) > 0"
   ]
  },
  {
   "cell_type": "code",
   "execution_count": null,
   "id": "bfdff8a2-6b0e-4099-882b-0251cce0e7ea",
   "metadata": {},
   "outputs": [],
   "source": [
    "a == 10"
   ]
  },
  {
   "cell_type": "code",
   "execution_count": null,
   "id": "2e43592f-232d-480a-9bf2-634d7f07487c",
   "metadata": {},
   "outputs": [],
   "source": [
    "x = 3\n",
    "print(x < 4)   # Is x less than 4?\n",
    "print(x >= 5)  # Is x greater than or equal to 5?\n",
    "print(x == 2)  # Is x equal to 2?"
   ]
  },
  {
   "cell_type": "markdown",
   "id": "5961aec9-1d8e-464a-9101-7f71dbc53fae",
   "metadata": {
    "editable": true,
    "slideshow": {
     "slide_type": ""
    },
    "tags": []
   },
   "source": [
    "### Poll #4 (think-pair-share; JupyterHub **off**)\n",
    "What is the output of the code below?\n",
    "```python\n",
    "x = -1\n",
    "print(x != x)\n",
    "```"
   ]
  },
  {
   "cell_type": "markdown",
   "id": "482b0fe7-9a35-461a-9a3b-cef0909a17a9",
   "metadata": {
    "editable": true,
    "slideshow": {
     "slide_type": ""
    },
    "tags": []
   },
   "source": [
    "### Compound logical statements"
   ]
  },
  {
   "cell_type": "markdown",
   "id": "1d173645-bdcb-44f1-8280-6fad70d24b43",
   "metadata": {},
   "source": [
    "+ `and`: operator to join two logical statements with an “and”\n",
    "+ `or`: operator to join two logical statements with an “or”\n",
    "+ `not`: operator to negate a logical statement"
   ]
  },
  {
   "cell_type": "code",
   "execution_count": null,
   "id": "e917a4e7-fa8c-4ceb-a9e1-f65f4c77e373",
   "metadata": {},
   "outputs": [],
   "source": [
    "x = 5\n",
    "1 < x and x < 6"
   ]
  },
  {
   "cell_type": "code",
   "execution_count": null,
   "id": "171e9bbc-0afe-4f8b-b28a-47692c0a3098",
   "metadata": {},
   "outputs": [],
   "source": [
    "1 > x or x > 4"
   ]
  },
  {
   "cell_type": "code",
   "execution_count": null,
   "id": "cf5ae8bd-cba8-4115-86a2-21e5293bcdf8",
   "metadata": {},
   "outputs": [],
   "source": [
    "not x < 0"
   ]
  },
  {
   "cell_type": "markdown",
   "id": "7a612b92-30e6-4ebd-9ae4-e7891b328f7e",
   "metadata": {
    "editable": true,
    "slideshow": {
     "slide_type": ""
    },
    "tags": []
   },
   "source": [
    "### Your turn #2 (individual)\n",
    "Write the test that check if `x` is between 1 and 10 (endpoints inclusive)"
   ]
  },
  {
   "cell_type": "code",
   "execution_count": null,
   "id": "4fff2599-c0e6-416f-96b5-9a8777ce3ec1",
   "metadata": {},
   "outputs": [],
   "source": []
  },
  {
   "cell_type": "markdown",
   "id": "83b7357a-f913-417b-a267-ecd5fa37e480",
   "metadata": {
    "editable": true,
    "slideshow": {
     "slide_type": ""
    },
    "tags": []
   },
   "source": [
    "## Python list"
   ]
  },
  {
   "cell_type": "code",
   "execution_count": null,
   "id": "9dd72d8d-9668-4d0a-bd2d-dfdb98b8608c",
   "metadata": {},
   "outputs": [],
   "source": [
    "s = [1, 2, 3, 4, 5, 6, 7, 8, 9, 10]\n",
    "s[0]"
   ]
  },
  {
   "cell_type": "code",
   "execution_count": null,
   "id": "e225aef7-5108-4cef-8573-96b0744bdd1f",
   "metadata": {},
   "outputs": [],
   "source": [
    "s[-1]"
   ]
  },
  {
   "cell_type": "code",
   "execution_count": null,
   "id": "4dcb2bf7-24d7-4439-a149-cc4b0d541244",
   "metadata": {},
   "outputs": [],
   "source": [
    "s[2:6]"
   ]
  },
  {
   "cell_type": "code",
   "execution_count": null,
   "id": "0264185c-550c-4de2-ab85-3acbfc5e98fc",
   "metadata": {},
   "outputs": [],
   "source": [
    "s[2:]"
   ]
  },
  {
   "cell_type": "code",
   "execution_count": null,
   "id": "bbc16830-d95e-4d2e-b9be-ae328a0d748a",
   "metadata": {},
   "outputs": [],
   "source": [
    "# start:stop:step\n",
    "s[1:8:2]"
   ]
  },
  {
   "cell_type": "code",
   "execution_count": null,
   "id": "fdb71530-05e6-450b-9594-108679656c22",
   "metadata": {},
   "outputs": [],
   "source": [
    "len(s)"
   ]
  },
  {
   "cell_type": "code",
   "execution_count": null,
   "id": "6535f51d-1802-4b37-8536-248f148a602b",
   "metadata": {},
   "outputs": [],
   "source": [
    "0 in s"
   ]
  },
  {
   "cell_type": "code",
   "execution_count": null,
   "id": "8c5b2d38-f789-416d-a73a-0efeefb61c79",
   "metadata": {},
   "outputs": [],
   "source": [
    "1 in s"
   ]
  },
  {
   "cell_type": "markdown",
   "id": "5f7b33da-c165-4060-9ca7-ae4f314203a8",
   "metadata": {},
   "source": [
    "### Poll #5 (think-pair-share, JupyterHub **off**)\n",
    "What is the output of the code block below?\n",
    "```python\n",
    "words = ['Oceanography', 'Is', 'Super', 'Cool']\n",
    "'cool' in words\n",
    "```"
   ]
  },
  {
   "cell_type": "markdown",
   "id": "e8f87b01-c743-4513-808c-01930f9ca64a",
   "metadata": {},
   "source": [
    "### List modifications"
   ]
  },
  {
   "cell_type": "code",
   "execution_count": null,
   "id": "80aab417-269b-484d-a034-5bcc9a0fbb04",
   "metadata": {},
   "outputs": [],
   "source": [
    "y = [3.5, 6.7, 2, 5, 9.5, 10, 11.5, 2.6]\n",
    "y[3] = 4 # Replaces number at index position 3 with what we assign\n",
    "print(y)"
   ]
  },
  {
   "cell_type": "code",
   "execution_count": null,
   "id": "a4a00c19-afb4-4022-b4e3-280737eaed82",
   "metadata": {},
   "outputs": [],
   "source": [
    "y.append(14) # Appends number in parenthesis to end of list\n",
    "y"
   ]
  },
  {
   "cell_type": "code",
   "execution_count": null,
   "id": "20e15d40-2b42-4b3b-a9b8-e18622fae226",
   "metadata": {},
   "outputs": [],
   "source": [
    "y.extend([-2, -5])\n",
    "y"
   ]
  },
  {
   "cell_type": "markdown",
   "id": "c354decc-a6df-48d4-bde1-d679b2c561f6",
   "metadata": {},
   "source": [
    "### Poll #6 (think-pair-share; Device **off**)\n",
    "What is the output of the code block below?\n",
    "```python\n",
    "a = [7, 5, 3, 1]\n",
    "b = a\n",
    "a[2] = 0\n",
    "print(b)\n",
    "```"
   ]
  },
  {
   "cell_type": "code",
   "execution_count": null,
   "id": "05ec01e2-a422-46ae-9b0a-1ae159994b4e",
   "metadata": {},
   "outputs": [],
   "source": []
  }
 ],
 "metadata": {
  "kernelspec": {
   "display_name": "Python 3 (ipykernel)",
   "language": "python",
   "name": "python3"
  },
  "language_info": {
   "codemirror_mode": {
    "name": "ipython",
    "version": 3
   },
   "file_extension": ".py",
   "mimetype": "text/x-python",
   "name": "python",
   "nbconvert_exporter": "python",
   "pygments_lexer": "ipython3",
   "version": "3.11.13"
  }
 },
 "nbformat": 4,
 "nbformat_minor": 5
}
